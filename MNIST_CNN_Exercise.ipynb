{
  "nbformat": 4,
  "nbformat_minor": 0,
  "metadata": {
    "colab": {
      "name": "MNIST_CNN 参数调节.ipynb",
      "version": "0.3.2",
      "provenance": [],
      "collapsed_sections": [],
      "toc_visible": true,
      "include_colab_link": true
    },
    "kernelspec": {
      "name": "python3",
      "display_name": "Python 3"
    },
    "accelerator": "GPU"
  },
  "cells": [
    {
      "cell_type": "markdown",
      "metadata": {
        "id": "view-in-github",
        "colab_type": "text"
      },
      "source": [
        "<a href=\"https://colab.research.google.com/github/xslittlemaggie/Tencent_Education_Deep_Learning_Course/blob/master/MNIST_CNN_Exercise.ipynb\" target=\"_parent\"><img src=\"https://colab.research.google.com/assets/colab-badge.svg\" alt=\"Open In Colab\"/></a>"
      ]
    },
    {
      "cell_type": "code",
      "metadata": {
        "id": "uWcscijNFffz",
        "colab_type": "code",
        "colab": {
          "base_uri": "https://localhost:8080/",
          "height": 33
        },
        "outputId": "152c1bcd-5ef3-4b18-9233-99c555835f26"
      },
      "source": [
        "import keras\n",
        "from keras.datasets import mnist\n",
        "\n",
        "from keras.models import Sequential\n",
        "\n",
        "from keras.layers import Conv2D, MaxPooling2D, Dropout\n",
        "from keras.layers import Dense, Activation, Flatten\n",
        "\n",
        "from keras.optimizers import SGD, adam, RMSprop\n",
        "\n",
        "from keras.utils import np_utils\n",
        "from keras import backend as K\n",
        "\n",
        "# visualization\n",
        "import matplotlib.pyplot as plt\n"
      ],
      "execution_count": 1,
      "outputs": [
        {
          "output_type": "stream",
          "text": [
            "Using TensorFlow backend.\n"
          ],
          "name": "stderr"
        }
      ]
    },
    {
      "cell_type": "markdown",
      "metadata": {
        "id": "riiPMBkrHBN1",
        "colab_type": "text"
      },
      "source": [
        "## 读取数据"
      ]
    },
    {
      "cell_type": "code",
      "metadata": {
        "id": "0FqOAGrPFg4W",
        "colab_type": "code",
        "colab": {
          "base_uri": "https://localhost:8080/",
          "height": 50
        },
        "outputId": "463fa34d-496f-4cfb-c4dc-dfc970ab8c6e"
      },
      "source": [
        "# the data, split between train and test sets\n",
        "(x_train, y_train), (x_test, y_test) = mnist.load_data()"
      ],
      "execution_count": 2,
      "outputs": [
        {
          "output_type": "stream",
          "text": [
            "Downloading data from https://s3.amazonaws.com/img-datasets/mnist.npz\n",
            "11493376/11490434 [==============================] - 1s 0us/step\n"
          ],
          "name": "stdout"
        }
      ]
    },
    {
      "cell_type": "code",
      "metadata": {
        "id": "QqnIxYoE7CI6",
        "colab_type": "code",
        "colab": {
          "base_uri": "https://localhost:8080/",
          "height": 33
        },
        "outputId": "db462406-fce4-40ed-dc8c-1bf15ea47883"
      },
      "source": [
        "x_train.shape\n",
        "y_train.shape"
      ],
      "execution_count": 4,
      "outputs": [
        {
          "output_type": "execute_result",
          "data": {
            "text/plain": [
              "(60000,)"
            ]
          },
          "metadata": {
            "tags": []
          },
          "execution_count": 4
        }
      ]
    },
    {
      "cell_type": "code",
      "metadata": {
        "id": "tVMvPN0kGTOO",
        "colab_type": "code",
        "colab": {}
      },
      "source": [
        "# the data, split between train and test sets\n",
        "if K.image_data_format() == \"channels_first\":\n",
        "  x_train = x_train.reshape(x_train.shape[0], 1, 28, 28)\n",
        "  x_test = x_test.reshape(x_test.shape[0], 1, 28, 28)\n",
        "  input_shape = (1, 28, 28)\n",
        "else:\n",
        "  x_train = x_train.reshape(x_train.shape[0], 28, 28, 1)\n",
        "  x_test = x_test.reshape(x_test.shape[0], 28, 28, 1)\n",
        "  input_shape = (28, 28, 1)\n",
        "\n",
        "x_train = x_train.astype('float32')\n",
        "x_test = x_test.astype('float32')\n",
        "#x_train = x_train/255\n",
        "#x_test = x_test/255\n",
        "\n",
        "# convert class vectors to binary class matrics\n",
        "y_train = np_utils.to_categorical(y_train, 10)\n",
        "y_test = np_utils.to_categorical(y_test, 10)"
      ],
      "execution_count": 0,
      "outputs": []
    },
    {
      "cell_type": "markdown",
      "metadata": {
        "id": "zlgpCqQkHEiP",
        "colab_type": "text"
      },
      "source": [
        "## 模型建立"
      ]
    },
    {
      "cell_type": "code",
      "metadata": {
        "id": "d_fENKHPFlsm",
        "colab_type": "code",
        "outputId": "c7f2b809-0d4d-4e24-c6b2-7edd530351df",
        "colab": {
          "base_uri": "https://localhost:8080/",
          "height": 472
        }
      },
      "source": [
        "model = Sequential()\n",
        "\n",
        "# 第一层: CNN\n",
        "model.add(Conv2D(32, kernel_size = (3, 3), input_shape = (28, 28, 1)))\n",
        "\n",
        "# 第二层：激活层\n",
        "model.add(Activation(\"sigmoid\"))\n",
        "\n",
        "# 第三层：池化层\n",
        "model.add(MaxPooling2D(2, 2))\n",
        "\n",
        "\n",
        "# 将图片拉平\n",
        "model.add(Flatten())\n",
        "model.add(Dense(10, activation = \"softmax\"))\n",
        "\n",
        "model.compile(loss = 'mse', optimizer = adam(), metrics = [\"accuracy\"]) # categorical_crossentropy\n",
        "\n",
        "model.summary()"
      ],
      "execution_count": 6,
      "outputs": [
        {
          "output_type": "stream",
          "text": [
            "WARNING:tensorflow:From /usr/local/lib/python3.6/dist-packages/keras/backend/tensorflow_backend.py:66: The name tf.get_default_graph is deprecated. Please use tf.compat.v1.get_default_graph instead.\n",
            "\n",
            "WARNING:tensorflow:From /usr/local/lib/python3.6/dist-packages/keras/backend/tensorflow_backend.py:541: The name tf.placeholder is deprecated. Please use tf.compat.v1.placeholder instead.\n",
            "\n",
            "WARNING:tensorflow:From /usr/local/lib/python3.6/dist-packages/keras/backend/tensorflow_backend.py:4432: The name tf.random_uniform is deprecated. Please use tf.random.uniform instead.\n",
            "\n",
            "WARNING:tensorflow:From /usr/local/lib/python3.6/dist-packages/keras/backend/tensorflow_backend.py:4267: The name tf.nn.max_pool is deprecated. Please use tf.nn.max_pool2d instead.\n",
            "\n",
            "WARNING:tensorflow:From /usr/local/lib/python3.6/dist-packages/keras/optimizers.py:793: The name tf.train.Optimizer is deprecated. Please use tf.compat.v1.train.Optimizer instead.\n",
            "\n",
            "Model: \"sequential_1\"\n",
            "_________________________________________________________________\n",
            "Layer (type)                 Output Shape              Param #   \n",
            "=================================================================\n",
            "conv2d_1 (Conv2D)            (None, 26, 26, 32)        320       \n",
            "_________________________________________________________________\n",
            "activation_1 (Activation)    (None, 26, 26, 32)        0         \n",
            "_________________________________________________________________\n",
            "max_pooling2d_1 (MaxPooling2 (None, 13, 13, 32)        0         \n",
            "_________________________________________________________________\n",
            "flatten_1 (Flatten)          (None, 5408)              0         \n",
            "_________________________________________________________________\n",
            "dense_1 (Dense)              (None, 10)                54090     \n",
            "=================================================================\n",
            "Total params: 54,410\n",
            "Trainable params: 54,410\n",
            "Non-trainable params: 0\n",
            "_________________________________________________________________\n"
          ],
          "name": "stdout"
        }
      ]
    },
    {
      "cell_type": "markdown",
      "metadata": {
        "id": "Vizjjq87HIYA",
        "colab_type": "text"
      },
      "source": [
        "## 模型训练"
      ]
    },
    {
      "cell_type": "code",
      "metadata": {
        "id": "A-bSJ62zFzAV",
        "colab_type": "code",
        "outputId": "d56ca247-6e9b-4649-8244-b1799c99e3a6",
        "colab": {
          "base_uri": "https://localhost:8080/",
          "height": 1000
        }
      },
      "source": [
        "history_0 = model.fit(x_train, y_train, \n",
        "                   batch_size = 128, \n",
        "                   epochs = 30,\n",
        "                   validation_data = (x_test, y_test))\n",
        "score = model.evaluate(x_train, y_train)\n",
        "print(\"Train score: {}\".format(score[1]))\n",
        "\n",
        "\n",
        "score = model.evaluate(x_test, y_test)\n",
        "print(\"Test score: {}\".format(score[1]))"
      ],
      "execution_count": 7,
      "outputs": [
        {
          "output_type": "stream",
          "text": [
            "WARNING:tensorflow:From /usr/local/lib/python3.6/dist-packages/keras/backend/tensorflow_backend.py:1033: The name tf.assign_add is deprecated. Please use tf.compat.v1.assign_add instead.\n",
            "\n",
            "WARNING:tensorflow:From /usr/local/lib/python3.6/dist-packages/keras/backend/tensorflow_backend.py:1020: The name tf.assign is deprecated. Please use tf.compat.v1.assign instead.\n",
            "\n",
            "Train on 60000 samples, validate on 10000 samples\n",
            "Epoch 1/30\n",
            "60000/60000 [==============================] - 10s 165us/step - loss: 0.0863 - acc: 0.3627 - val_loss: 0.0815 - val_acc: 0.3886\n",
            "Epoch 2/30\n",
            "60000/60000 [==============================] - 3s 58us/step - loss: 0.0815 - acc: 0.3892 - val_loss: 0.0821 - val_acc: 0.3903\n",
            "Epoch 3/30\n",
            "60000/60000 [==============================] - 4s 59us/step - loss: 0.0809 - acc: 0.3907 - val_loss: 0.0807 - val_acc: 0.3905\n",
            "Epoch 4/30\n",
            "60000/60000 [==============================] - 4s 59us/step - loss: 0.0805 - acc: 0.3918 - val_loss: 0.0814 - val_acc: 0.3898\n",
            "Epoch 5/30\n",
            "60000/60000 [==============================] - 4s 60us/step - loss: 0.0804 - acc: 0.3920 - val_loss: 0.0805 - val_acc: 0.3914\n",
            "Epoch 6/30\n",
            "60000/60000 [==============================] - 4s 61us/step - loss: 0.0802 - acc: 0.3933 - val_loss: 0.0800 - val_acc: 0.3922\n",
            "Epoch 7/30\n",
            "60000/60000 [==============================] - 3s 58us/step - loss: 0.0802 - acc: 0.3929 - val_loss: 0.0798 - val_acc: 0.3930\n",
            "Epoch 8/30\n",
            "60000/60000 [==============================] - 4s 58us/step - loss: 0.0799 - acc: 0.3940 - val_loss: 0.0795 - val_acc: 0.3935\n",
            "Epoch 9/30\n",
            "60000/60000 [==============================] - 3s 58us/step - loss: 0.0798 - acc: 0.3939 - val_loss: 0.0796 - val_acc: 0.3931\n",
            "Epoch 10/30\n",
            "60000/60000 [==============================] - 3s 58us/step - loss: 0.0797 - acc: 0.3942 - val_loss: 0.0794 - val_acc: 0.3936\n",
            "Epoch 11/30\n",
            "60000/60000 [==============================] - 4s 59us/step - loss: 0.0797 - acc: 0.3940 - val_loss: 0.0800 - val_acc: 0.3931\n",
            "Epoch 12/30\n",
            "60000/60000 [==============================] - 4s 59us/step - loss: 0.0794 - acc: 0.3948 - val_loss: 0.0796 - val_acc: 0.3925\n",
            "Epoch 13/30\n",
            "60000/60000 [==============================] - 3s 58us/step - loss: 0.0795 - acc: 0.3947 - val_loss: 0.0796 - val_acc: 0.3934\n",
            "Epoch 14/30\n",
            "60000/60000 [==============================] - 4s 58us/step - loss: 0.0794 - acc: 0.3946 - val_loss: 0.0795 - val_acc: 0.3943\n",
            "Epoch 15/30\n",
            "60000/60000 [==============================] - 4s 58us/step - loss: 0.0794 - acc: 0.3954 - val_loss: 0.0796 - val_acc: 0.3938\n",
            "Epoch 16/30\n",
            "60000/60000 [==============================] - 3s 57us/step - loss: 0.0792 - acc: 0.3951 - val_loss: 0.0792 - val_acc: 0.3937\n",
            "Epoch 17/30\n",
            "60000/60000 [==============================] - 3s 57us/step - loss: 0.0792 - acc: 0.3954 - val_loss: 0.0792 - val_acc: 0.3934\n",
            "Epoch 18/30\n",
            "60000/60000 [==============================] - 3s 58us/step - loss: 0.0792 - acc: 0.3955 - val_loss: 0.0793 - val_acc: 0.3941\n",
            "Epoch 19/30\n",
            "60000/60000 [==============================] - 3s 58us/step - loss: 0.0792 - acc: 0.3955 - val_loss: 0.0792 - val_acc: 0.3939\n",
            "Epoch 20/30\n",
            "60000/60000 [==============================] - 4s 59us/step - loss: 0.0794 - acc: 0.3955 - val_loss: 0.0791 - val_acc: 0.3938\n",
            "Epoch 21/30\n",
            "60000/60000 [==============================] - 4s 59us/step - loss: 0.0791 - acc: 0.3957 - val_loss: 0.0796 - val_acc: 0.3933\n",
            "Epoch 22/30\n",
            "60000/60000 [==============================] - 3s 58us/step - loss: 0.0791 - acc: 0.3956 - val_loss: 0.0793 - val_acc: 0.3934\n",
            "Epoch 23/30\n",
            "60000/60000 [==============================] - 4s 59us/step - loss: 0.0791 - acc: 0.3960 - val_loss: 0.0802 - val_acc: 0.3913\n",
            "Epoch 24/30\n",
            "60000/60000 [==============================] - 4s 59us/step - loss: 0.0791 - acc: 0.3961 - val_loss: 0.0791 - val_acc: 0.3942\n",
            "Epoch 25/30\n",
            "60000/60000 [==============================] - 4s 59us/step - loss: 0.0789 - acc: 0.3962 - val_loss: 0.0794 - val_acc: 0.3930\n",
            "Epoch 26/30\n",
            "60000/60000 [==============================] - 4s 58us/step - loss: 0.0792 - acc: 0.3961 - val_loss: 0.0791 - val_acc: 0.3935\n",
            "Epoch 27/30\n",
            "60000/60000 [==============================] - 3s 58us/step - loss: 0.0790 - acc: 0.3960 - val_loss: 0.0797 - val_acc: 0.3936\n",
            "Epoch 28/30\n",
            "60000/60000 [==============================] - 3s 58us/step - loss: 0.0789 - acc: 0.3966 - val_loss: 0.0799 - val_acc: 0.3932\n",
            "Epoch 29/30\n",
            "60000/60000 [==============================] - 4s 59us/step - loss: 0.0790 - acc: 0.3962 - val_loss: 0.0791 - val_acc: 0.3943\n",
            "Epoch 30/30\n",
            "60000/60000 [==============================] - 3s 58us/step - loss: 0.0790 - acc: 0.3962 - val_loss: 0.0793 - val_acc: 0.3945\n",
            "60000/60000 [==============================] - 4s 62us/step\n",
            "Train score: 0.3969666666666667\n",
            "10000/10000 [==============================] - 1s 63us/step\n",
            "Test score: 0.3945\n"
          ],
          "name": "stdout"
        }
      ]
    },
    {
      "cell_type": "code",
      "metadata": {
        "id": "jJGNK0VsMXSG",
        "colab_type": "code",
        "outputId": "f1fbe81c-6274-4e14-f2fa-db86fb9feef7",
        "colab": {
          "base_uri": "https://localhost:8080/",
          "height": 523
        }
      },
      "source": [
        "plt.figure(figsize = (12, 8))\n",
        "plt.plot(history_0.history[\"acc\"], color = \"b\")\n",
        "plt.plot(history_0.history[\"val_acc\"], color = \"r\")\n",
        "plt.title(\"The accuracy of Training and testing datasets\", size = 20)\n",
        "plt.xlabel(\"Epochs\", size = 16)\n",
        "plt.ylabel(\"Accuracy\", size = 16)\n",
        "plt.legend([\"Training\",\"Testing\"])\n",
        "plt.show()"
      ],
      "execution_count": 0,
      "outputs": [
        {
          "output_type": "display_data",
          "data": {
            "image/png": "[encoded data removed]",
            "text/plain": [
              "<Figure size 864x576 with 1 Axes>"
            ]
          },
          "metadata": {
            "tags": []
          }
        }
      ]
    },
    {
      "cell_type": "markdown",
      "metadata": {
        "id": "bG2M6IwAdt8k",
        "colab_type": "text"
      },
      "source": [
        "# 参数调节"
      ]
    },
    {
      "cell_type": "markdown",
      "metadata": {
        "id": "Pa0bGBwo1qPQ",
        "colab_type": "text"
      },
      "source": [
        "## 调参 1. 数据归一化"
      ]
    },
    {
      "cell_type": "code",
      "metadata": {
        "id": "tdqokUA_gYSw",
        "colab_type": "code",
        "colab": {}
      },
      "source": [
        "x_train = x_train/255\n",
        "x_test = x_test/255"
      ],
      "execution_count": 0,
      "outputs": []
    },
    {
      "cell_type": "markdown",
      "metadata": {
        "id": "o7-3PcsReAlT",
        "colab_type": "text"
      },
      "source": [
        "## 调参 2. 增加网络的深度"
      ]
    },
    {
      "cell_type": "markdown",
      "metadata": {
        "id": "7T4fp_B9hj2b",
        "colab_type": "text"
      },
      "source": [
        "## 调参 3: 激励函数 "
      ]
    },
    {
      "cell_type": "markdown",
      "metadata": {
        "id": "F0kLP79Ilo67",
        "colab_type": "text"
      },
      "source": [
        "## 调参 4: 目标函数"
      ]
    },
    {
      "cell_type": "markdown",
      "metadata": {
        "id": "Uci32GtWlvNJ",
        "colab_type": "text"
      },
      "source": [
        "## 调参 5: 优化函数"
      ]
    },
    {
      "cell_type": "markdown",
      "metadata": {
        "id": "E-lqGGAJlzrZ",
        "colab_type": "text"
      },
      "source": [
        "## 调参 6: 批归一化（BN）"
      ]
    },
    {
      "cell_type": "markdown",
      "metadata": {
        "id": "2TUSnTcTl8HJ",
        "colab_type": "text"
      },
      "source": [
        "## 调参 7：Dropout"
      ]
    },
    {
      "cell_type": "markdown",
      "metadata": {
        "id": "Y-Jvle17mB6u",
        "colab_type": "text"
      },
      "source": [
        "## 调参 8_1： 卷积核个数， 大小"
      ]
    },
    {
      "cell_type": "markdown",
      "metadata": {
        "id": "hgNQFS2fEF-9",
        "colab_type": "text"
      },
      "source": [
        "## 调参 8_2： 卷积核个数， 大小, 更深"
      ]
    },
    {
      "cell_type": "markdown",
      "metadata": {
        "id": "EWX_YcMkmIcq",
        "colab_type": "text"
      },
      "source": [
        "## 调参 9： batch size"
      ]
    },
    {
      "cell_type": "markdown",
      "metadata": {
        "id": "WIV1-W-BKvqc",
        "colab_type": "text"
      },
      "source": [
        "## 调参 9： batch size, 更多次迭代"
      ]
    }
  ]
}